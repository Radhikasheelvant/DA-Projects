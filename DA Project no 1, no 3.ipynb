{
 "cells": [
  {
   "cell_type": "markdown",
   "id": "fb1b5485",
   "metadata": {},
   "source": [
    "# Assignment 1 - PYTHON"
   ]
  },
  {
   "cell_type": "raw",
   "id": "f2fec752",
   "metadata": {},
   "source": [
    "The objective of the project is to calculate the duration of how long a person lived based on his Age. The duration should be calculated in different time units like Months, Weeks, Days, Hours, Minutes, Seconds\n",
    "The input to the application is an Age of a person and the output is expected to calculate the duration of time he lived in different time units as selected by the user"
   ]
  },
  {
   "cell_type": "code",
   "execution_count": 1,
   "id": "a8e7566c",
   "metadata": {},
   "outputs": [
    {
     "name": "stdout",
     "output_type": "stream",
     "text": [
      "Enter the age of the person: 30\n",
      "\n",
      "Duration of 30 years in different time units:\n",
      "Years: 30.00\n",
      "Months: 360.00\n",
      "Weeks: 1565.33\n",
      "Days: 10957.50\n",
      "Hours: 262980.00\n",
      "Minutes: 15778800.00\n",
      "Seconds: 946728000.00\n"
     ]
    }
   ],
   "source": [
    "class AgeCalculator:\n",
    "    def __init__(self, age):\n",
    "        self.age = age\n",
    "\n",
    "    def calculate_duration(self):\n",
    "        # Constants for conversion\n",
    "        days_in_year = 365.25\n",
    "        hours_in_day = 24\n",
    "        minutes_in_hour = 60\n",
    "        seconds_in_minute = 60\n",
    "\n",
    "        # Calculate durations\n",
    "        years = self.age\n",
    "        months = years * 12\n",
    "        weeks = years * 52.1775  # Average number of weeks in a year\n",
    "        days = years * days_in_year\n",
    "        hours = days * hours_in_day\n",
    "        minutes = hours * minutes_in_hour\n",
    "        seconds = minutes * seconds_in_minute\n",
    "\n",
    "        # Return the calculated durations\n",
    "        return {\n",
    "            'Years': years,\n",
    "            'Months': months,\n",
    "            'Weeks': weeks,\n",
    "            'Days': days,\n",
    "            'Hours': hours,\n",
    "            'Minutes': minutes,\n",
    "            'Seconds': seconds\n",
    "        }\n",
    "\n",
    "def main():\n",
    "    # Get age from user input\n",
    "    age = int(input(\"Enter the age of the person: \"))\n",
    "\n",
    "    # Create an instance of the AgeCalculator class\n",
    "    age_calculator = AgeCalculator(age)\n",
    "\n",
    "    # Calculate the duration\n",
    "    duration = age_calculator.calculate_duration()\n",
    "\n",
    "    # Display the results\n",
    "    print(f\"\\nDuration of {age} years in different time units:\")\n",
    "    for unit, value in duration.items():\n",
    "        print(f\"{unit}: {value:.2f}\")\n",
    "\n",
    "# Run the main function if the script is executed\n",
    "if __name__ == \"__main__\":\n",
    "    main()"
   ]
  },
  {
   "cell_type": "markdown",
   "id": "710ef97f",
   "metadata": {},
   "source": [
    "# Assignment 3 - SQL Assignment - 2"
   ]
  },
  {
   "cell_type": "raw",
   "id": "cf35d336",
   "metadata": {},
   "source": [
    "This application will read the mailbox data (mbox.txt) and count the number of email messages per organization (i.e. domain name of the email address) using a database with the following schema to maintain the counts.\n",
    "\n",
    "CREATE TABLE Counts (org TEXT, count INTEGER)\n",
    "\n",
    "When you have run the program on mbox.txt upload the resulting database file above for grading.\n",
    "\n",
    "If you run the program multiple times in testing or with different files, make sure to empty out the data before each run.\n",
    "\n",
    "The data file for this application is mbox.txt\n"
   ]
  },
  {
   "cell_type": "code",
   "execution_count": 2,
   "id": "94ff9350",
   "metadata": {},
   "outputs": [
    {
     "name": "stdout",
     "output_type": "stream",
     "text": [
      "Enter file name: mbox.txt\n",
      "Counts:\n"
     ]
    }
   ],
   "source": [
    "import sqlite3\n",
    "\n",
    "conn = sqlite3.connect('emaildb.sqlite')\n",
    "cur = conn.cursor()\n",
    "\n",
    "cur.execute('''\n",
    "DROP TABLE IF EXISTS Counts''')\n",
    "\n",
    "cur.execute('''\n",
    "CREATE TABLE Counts (org TEXT, count INTEGER)''')\n",
    "\n",
    "fname = input('Enter file name: ')\n",
    "if ( len(fname) < 1 ) : fname = 'mbox.txt'\n",
    "fh = open(fname)\n",
    "for line in fh:\n",
    "    if not line.startswith('From: ') : continue\n",
    "    pieces = line.split()\n",
    "    email = pieces[1]\n",
    "    parts = email.split('@')\n",
    "    org = parts[-1]\n",
    "    cur.execute('SELECT count FROM Counts WHERE org = ? ', (org, ))\n",
    "    row = cur.fetchone()\n",
    "    if row is None:\n",
    "        cur.execute('''INSERT INTO Counts (org, count)\n",
    "                VALUES ( ?, 1 )''', ( org, ) )\n",
    "    else :\n",
    "        cur.execute('UPDATE Counts SET count=count+1 WHERE org = ?',\n",
    "            (org, ))\n",
    "    conn.commit()\n",
    "\n",
    "sqlstr = 'SELECT org, count FROM Counts ORDER BY count DESC LIMIT 10'\n",
    "\n",
    "print(\"Counts:\")\n",
    "for row in cur.execute(sqlstr) :\n",
    "    print (str(row[0]), row[1])\n",
    "\n",
    "cur.close()"
   ]
  },
  {
   "cell_type": "code",
   "execution_count": null,
   "id": "ffe2299a",
   "metadata": {},
   "outputs": [],
   "source": []
  }
 ],
 "metadata": {
  "kernelspec": {
   "display_name": "Python 3 (ipykernel)",
   "language": "python",
   "name": "python3"
  },
  "language_info": {
   "codemirror_mode": {
    "name": "ipython",
    "version": 3
   },
   "file_extension": ".py",
   "mimetype": "text/x-python",
   "name": "python",
   "nbconvert_exporter": "python",
   "pygments_lexer": "ipython3",
   "version": "3.9.12"
  }
 },
 "nbformat": 4,
 "nbformat_minor": 5
}
